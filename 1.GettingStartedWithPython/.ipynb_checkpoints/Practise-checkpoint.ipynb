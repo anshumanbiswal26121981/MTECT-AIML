{
 "cells": [
  {
   "cell_type": "markdown",
   "id": "7927e103",
   "metadata": {},
   "source": [
    "<!-- String Problem\n",
    "# Description\n",
    "# In a certain encrypted message which has information about the location(area, city), the characters are jumbled such that first character of the first word is followed by the first character of the second word, then it is followed by second character of the first word and so on\n",
    "\n",
    "\n",
    "\n",
    "# In other words, let’s say the location is bandra,mumbai\n",
    "\n",
    "\n",
    "\n",
    "# The encrypted message says ‘bmaunmdbraai’.\n",
    "\n",
    "\n",
    "\n",
    "# Sample Input:\n",
    "\n",
    "# bmaunmdbraai\n",
    "\n",
    "\n",
    "\n",
    "# Sample Output:\n",
    "\n",
    "# bandra,mumbai\n",
    "\n",
    "\n",
    "\n",
    "# Let’s say the size or length of the two words wouldn’t match then the smaller word is appended with # and then encrypted in the above format.\n",
    "\n",
    "\n",
    "\n",
    "# With this in mind write a code to identify the right location and print it as place,city. -->"
   ]
  },
  {
   "cell_type": "code",
   "execution_count": 4,
   "id": "11b8524b",
   "metadata": {},
   "outputs": [
    {
     "name": "stdout",
     "output_type": "stream",
     "text": [
      "bandra,mumbai\n"
     ]
    }
   ],
   "source": [
    "import ast,sys\n",
    "input_str = 'bmaunmdbraai'\n",
    "message1 = input_str[0::2]\n",
    "message2 = input_str[1::2].replace('#', '')\n",
    "print(message1 + ','+ message2)"
   ]
  },
  {
   "cell_type": "code",
   "execution_count": null,
   "id": "64eb1aea",
   "metadata": {},
   "outputs": [],
   "source": []
  },
  {
   "cell_type": "code",
   "execution_count": null,
   "id": "9abda9e7",
   "metadata": {},
   "outputs": [],
   "source": []
  },
  {
   "cell_type": "code",
   "execution_count": null,
   "id": "5ac61f27",
   "metadata": {},
   "outputs": [],
   "source": []
  },
  {
   "cell_type": "code",
   "execution_count": null,
   "id": "c0f96e1a",
   "metadata": {},
   "outputs": [],
   "source": []
  }
 ],
 "metadata": {
  "kernelspec": {
   "display_name": "Python 3 (ipykernel)",
   "language": "python",
   "name": "python3"
  },
  "language_info": {
   "codemirror_mode": {
    "name": "ipython",
    "version": 3
   },
   "file_extension": ".py",
   "mimetype": "text/x-python",
   "name": "python",
   "nbconvert_exporter": "python",
   "pygments_lexer": "ipython3",
   "version": "3.10.9"
  }
 },
 "nbformat": 4,
 "nbformat_minor": 5
}
